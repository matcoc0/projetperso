{
  "cells": [
    {
      "cell_type": "code",
      "execution_count": 1,
      "metadata": {
        "colab": {
          "base_uri": "https://localhost:8080/"
        },
        "id": "5J0QcQBdkF3o",
        "outputId": "90b8c100-d974-4381-fcd7-5c9d4d6e830f"
      },
      "outputs": [
        {
          "data": {
            "text/plain": [
              "\"\\n\\nfrom google.colab import drive\\ndrive.mount('/content/drive')\\n\\n# Crée un dossier dans ton Drive si tu veux\\n%cd /content/drive/MyDrive/training_dataset/src_2/\\n\\n\""
            ]
          },
          "execution_count": 1,
          "metadata": {},
          "output_type": "execute_result"
        }
      ],
      "source": [
        "'''\n",
        "\n",
        "from google.colab import drive\n",
        "drive.mount('/content/drive')\n",
        "\n",
        "# Crée un dossier dans ton Drive si tu veux\n",
        "%cd /content/drive/MyDrive/training_dataset/src_2/\n",
        "\n",
        "'''\n",
        "\n"
      ]
    },
    {
      "cell_type": "markdown",
      "metadata": {
        "id": "_LNiSbNJml98"
      },
      "source": [
        "Importations"
      ]
    },
    {
      "cell_type": "code",
      "execution_count": null,
      "metadata": {
        "colab": {
          "base_uri": "https://localhost:8080/"
        },
        "id": "u9whpL2s0czJ",
        "outputId": "9297b0fe-299f-4ba2-d646-2912aaf612dc"
      },
      "outputs": [
        {
          "name": "stdout",
          "output_type": "stream",
          "text": [
            "Defaulting to user installation because normal site-packages is not writeable\n",
            "Requirement already satisfied: ultralytics in /Users/valeriecowan/Library/Python/3.9/lib/python/site-packages (8.3.138)\n",
            "Requirement already satisfied: torchvision>=0.9.0 in /Users/valeriecowan/Library/Python/3.9/lib/python/site-packages (from ultralytics) (0.17.2)\n",
            "Requirement already satisfied: tqdm>=4.64.0 in /Users/valeriecowan/Library/Python/3.9/lib/python/site-packages (from ultralytics) (4.67.1)\n",
            "Requirement already satisfied: psutil in /Users/valeriecowan/Library/Python/3.9/lib/python/site-packages (from ultralytics) (7.0.0)\n",
            "Requirement already satisfied: scipy>=1.4.1 in /Users/valeriecowan/Library/Python/3.9/lib/python/site-packages (from ultralytics) (1.13.1)\n",
            "Requirement already satisfied: opencv-python>=4.6.0 in /Users/valeriecowan/Library/Python/3.9/lib/python/site-packages (from ultralytics) (4.11.0.86)\n",
            "Requirement already satisfied: pyyaml>=5.3.1 in /Users/valeriecowan/Library/Python/3.9/lib/python/site-packages (from ultralytics) (6.0.2)\n",
            "Requirement already satisfied: py-cpuinfo in /Users/valeriecowan/Library/Python/3.9/lib/python/site-packages (from ultralytics) (9.0.0)\n",
            "Requirement already satisfied: pillow>=7.1.2 in /Users/valeriecowan/Library/Python/3.9/lib/python/site-packages (from ultralytics) (11.2.1)\n",
            "Requirement already satisfied: pandas>=1.1.4 in /Users/valeriecowan/Library/Python/3.9/lib/python/site-packages (from ultralytics) (2.2.3)\n",
            "Requirement already satisfied: requests>=2.23.0 in /Users/valeriecowan/Library/Python/3.9/lib/python/site-packages (from ultralytics) (2.32.3)\n",
            "Requirement already satisfied: ultralytics-thop>=2.0.0 in /Users/valeriecowan/Library/Python/3.9/lib/python/site-packages (from ultralytics) (2.0.14)\n",
            "Requirement already satisfied: numpy>=1.23.0 in /Users/valeriecowan/Library/Python/3.9/lib/python/site-packages (from ultralytics) (2.0.2)\n",
            "Requirement already satisfied: torch>=1.8.0 in /Users/valeriecowan/Library/Python/3.9/lib/python/site-packages (from ultralytics) (2.2.2)\n",
            "Requirement already satisfied: matplotlib>=3.3.0 in /Users/valeriecowan/Library/Python/3.9/lib/python/site-packages (from ultralytics) (3.9.4)\n",
            "Requirement already satisfied: importlib-resources>=3.2.0 in /Users/valeriecowan/Library/Python/3.9/lib/python/site-packages (from matplotlib>=3.3.0->ultralytics) (6.5.2)\n",
            "Requirement already satisfied: python-dateutil>=2.7 in /Users/valeriecowan/Library/Python/3.9/lib/python/site-packages (from matplotlib>=3.3.0->ultralytics) (2.9.0.post0)\n",
            "Requirement already satisfied: packaging>=20.0 in /Users/valeriecowan/Library/Python/3.9/lib/python/site-packages (from matplotlib>=3.3.0->ultralytics) (25.0)\n",
            "Requirement already satisfied: fonttools>=4.22.0 in /Users/valeriecowan/Library/Python/3.9/lib/python/site-packages (from matplotlib>=3.3.0->ultralytics) (4.58.0)\n",
            "Requirement already satisfied: contourpy>=1.0.1 in /Users/valeriecowan/Library/Python/3.9/lib/python/site-packages (from matplotlib>=3.3.0->ultralytics) (1.3.0)\n",
            "Requirement already satisfied: kiwisolver>=1.3.1 in /Users/valeriecowan/Library/Python/3.9/lib/python/site-packages (from matplotlib>=3.3.0->ultralytics) (1.4.7)\n",
            "Requirement already satisfied: pyparsing>=2.3.1 in /Users/valeriecowan/Library/Python/3.9/lib/python/site-packages (from matplotlib>=3.3.0->ultralytics) (3.2.3)\n",
            "Requirement already satisfied: cycler>=0.10 in /Users/valeriecowan/Library/Python/3.9/lib/python/site-packages (from matplotlib>=3.3.0->ultralytics) (0.12.1)\n",
            "Requirement already satisfied: zipp>=3.1.0 in /Users/valeriecowan/Library/Python/3.9/lib/python/site-packages (from importlib-resources>=3.2.0->matplotlib>=3.3.0->ultralytics) (3.21.0)\n",
            "Requirement already satisfied: pytz>=2020.1 in /Users/valeriecowan/Library/Python/3.9/lib/python/site-packages (from pandas>=1.1.4->ultralytics) (2025.2)\n",
            "Requirement already satisfied: tzdata>=2022.7 in /Users/valeriecowan/Library/Python/3.9/lib/python/site-packages (from pandas>=1.1.4->ultralytics) (2025.2)\n",
            "Requirement already satisfied: six>=1.5 in /Library/Developer/CommandLineTools/Library/Frameworks/Python3.framework/Versions/3.9/lib/python3.9/site-packages (from python-dateutil>=2.7->matplotlib>=3.3.0->ultralytics) (1.15.0)\n",
            "Requirement already satisfied: urllib3<3,>=1.21.1 in /Users/valeriecowan/Library/Python/3.9/lib/python/site-packages (from requests>=2.23.0->ultralytics) (2.4.0)\n",
            "Requirement already satisfied: idna<4,>=2.5 in /Users/valeriecowan/Library/Python/3.9/lib/python/site-packages (from requests>=2.23.0->ultralytics) (3.7)\n",
            "Requirement already satisfied: certifi>=2017.4.17 in /Users/valeriecowan/Library/Python/3.9/lib/python/site-packages (from requests>=2.23.0->ultralytics) (2025.4.26)\n",
            "Requirement already satisfied: charset-normalizer<4,>=2 in /Users/valeriecowan/Library/Python/3.9/lib/python/site-packages (from requests>=2.23.0->ultralytics) (3.4.2)\n",
            "Requirement already satisfied: fsspec in /Users/valeriecowan/Library/Python/3.9/lib/python/site-packages (from torch>=1.8.0->ultralytics) (2025.3.2)\n",
            "Requirement already satisfied: jinja2 in /Users/valeriecowan/Library/Python/3.9/lib/python/site-packages (from torch>=1.8.0->ultralytics) (3.1.6)\n",
            "Requirement already satisfied: filelock in /Users/valeriecowan/Library/Python/3.9/lib/python/site-packages (from torch>=1.8.0->ultralytics) (3.18.0)\n",
            "Requirement already satisfied: networkx in /Users/valeriecowan/Library/Python/3.9/lib/python/site-packages (from torch>=1.8.0->ultralytics) (3.2.1)\n",
            "Requirement already satisfied: typing-extensions>=4.8.0 in /Users/valeriecowan/Library/Python/3.9/lib/python/site-packages (from torch>=1.8.0->ultralytics) (4.13.2)\n",
            "Requirement already satisfied: sympy in /Users/valeriecowan/Library/Python/3.9/lib/python/site-packages (from torch>=1.8.0->ultralytics) (1.14.0)\n",
            "Requirement already satisfied: MarkupSafe>=2.0 in /Users/valeriecowan/Library/Python/3.9/lib/python/site-packages (from jinja2->torch>=1.8.0->ultralytics) (3.0.2)\n",
            "Requirement already satisfied: mpmath<1.4,>=1.1.0 in /Users/valeriecowan/Library/Python/3.9/lib/python/site-packages (from sympy->torch>=1.8.0->ultralytics) (1.3.0)\n",
            "\u001b[33mWARNING: You are using pip version 21.2.4; however, version 25.1.1 is available.\n",
            "You should consider upgrading via the '/Library/Developer/CommandLineTools/usr/bin/python3 -m pip install --upgrade pip' command.\u001b[0m\n",
            "Note: you may need to restart the kernel to use updated packages.\n"
          ]
        }
      ],
      "source": [
        "!pip install ultralytics"
      ]
    },
    {
      "cell_type": "code",
      "execution_count": null,
      "metadata": {
        "colab": {
          "base_uri": "https://localhost:8080/"
        },
        "id": "VWThOXOPmrB1",
        "outputId": "e093f909-d8a9-4f2e-8cdf-6816f4690c9f"
      },
      "outputs": [
        {
          "name": "stdout",
          "output_type": "stream",
          "text": [
            "Defaulting to user installation because normal site-packages is not writeable\n",
            "Requirement already satisfied: Roboflow in /Users/valeriecowan/Library/Python/3.9/lib/python/site-packages (1.1.64)\n",
            "Requirement already satisfied: Pillow>=7.1.2 in /Users/valeriecowan/Library/Python/3.9/lib/python/site-packages (from Roboflow) (11.2.1)\n",
            "Requirement already satisfied: certifi in /Users/valeriecowan/Library/Python/3.9/lib/python/site-packages (from Roboflow) (2025.4.26)\n",
            "Requirement already satisfied: kiwisolver>=1.3.1 in /Users/valeriecowan/Library/Python/3.9/lib/python/site-packages (from Roboflow) (1.4.7)\n",
            "Requirement already satisfied: PyYAML>=5.3.1 in /Users/valeriecowan/Library/Python/3.9/lib/python/site-packages (from Roboflow) (6.0.2)\n",
            "Requirement already satisfied: idna==3.7 in /Users/valeriecowan/Library/Python/3.9/lib/python/site-packages (from Roboflow) (3.7)\n",
            "Requirement already satisfied: pillow-heif>=0.18.0 in /Users/valeriecowan/Library/Python/3.9/lib/python/site-packages (from Roboflow) (0.22.0)\n",
            "Requirement already satisfied: requests-toolbelt in /Users/valeriecowan/Library/Python/3.9/lib/python/site-packages (from Roboflow) (1.0.0)\n",
            "Requirement already satisfied: cycler in /Users/valeriecowan/Library/Python/3.9/lib/python/site-packages (from Roboflow) (0.12.1)\n",
            "Requirement already satisfied: numpy>=1.18.5 in /Users/valeriecowan/Library/Python/3.9/lib/python/site-packages (from Roboflow) (2.0.2)\n",
            "Requirement already satisfied: opencv-python-headless==4.10.0.84 in /Users/valeriecowan/Library/Python/3.9/lib/python/site-packages (from Roboflow) (4.10.0.84)\n",
            "Requirement already satisfied: python-dotenv in /Users/valeriecowan/Library/Python/3.9/lib/python/site-packages (from Roboflow) (1.1.0)\n",
            "Requirement already satisfied: six in /Library/Developer/CommandLineTools/Library/Frameworks/Python3.framework/Versions/3.9/lib/python3.9/site-packages (from Roboflow) (1.15.0)\n",
            "Requirement already satisfied: matplotlib in /Users/valeriecowan/Library/Python/3.9/lib/python/site-packages (from Roboflow) (3.9.4)\n",
            "Requirement already satisfied: filetype in /Users/valeriecowan/Library/Python/3.9/lib/python/site-packages (from Roboflow) (1.2.0)\n",
            "Requirement already satisfied: tqdm>=4.41.0 in /Users/valeriecowan/Library/Python/3.9/lib/python/site-packages (from Roboflow) (4.67.1)\n",
            "Requirement already satisfied: urllib3>=1.26.6 in /Users/valeriecowan/Library/Python/3.9/lib/python/site-packages (from Roboflow) (2.4.0)\n",
            "Requirement already satisfied: python-dateutil in /Users/valeriecowan/Library/Python/3.9/lib/python/site-packages (from Roboflow) (2.9.0.post0)\n",
            "Requirement already satisfied: requests in /Users/valeriecowan/Library/Python/3.9/lib/python/site-packages (from Roboflow) (2.32.3)\n",
            "Requirement already satisfied: contourpy>=1.0.1 in /Users/valeriecowan/Library/Python/3.9/lib/python/site-packages (from matplotlib->Roboflow) (1.3.0)\n",
            "Requirement already satisfied: fonttools>=4.22.0 in /Users/valeriecowan/Library/Python/3.9/lib/python/site-packages (from matplotlib->Roboflow) (4.58.0)\n",
            "Requirement already satisfied: importlib-resources>=3.2.0 in /Users/valeriecowan/Library/Python/3.9/lib/python/site-packages (from matplotlib->Roboflow) (6.5.2)\n",
            "Requirement already satisfied: packaging>=20.0 in /Users/valeriecowan/Library/Python/3.9/lib/python/site-packages (from matplotlib->Roboflow) (25.0)\n",
            "Requirement already satisfied: pyparsing>=2.3.1 in /Users/valeriecowan/Library/Python/3.9/lib/python/site-packages (from matplotlib->Roboflow) (3.2.3)\n",
            "Requirement already satisfied: zipp>=3.1.0 in /Users/valeriecowan/Library/Python/3.9/lib/python/site-packages (from importlib-resources>=3.2.0->matplotlib->Roboflow) (3.21.0)\n",
            "Requirement already satisfied: charset-normalizer<4,>=2 in /Users/valeriecowan/Library/Python/3.9/lib/python/site-packages (from requests->Roboflow) (3.4.2)\n",
            "\u001b[33mWARNING: You are using pip version 21.2.4; however, version 25.1.1 is available.\n",
            "You should consider upgrading via the '/Library/Developer/CommandLineTools/usr/bin/python3 -m pip install --upgrade pip' command.\u001b[0m\n",
            "Note: you may need to restart the kernel to use updated packages.\n"
          ]
        }
      ],
      "source": [
        "!pip install Roboflow"
      ]
    },
    {
      "cell_type": "markdown",
      "metadata": {
        "id": "LGIDc9DkmvoG"
      },
      "source": [
        "Download dataset from roboflow api key"
      ]
    },
    {
      "cell_type": "code",
      "execution_count": 4,
      "metadata": {
        "colab": {
          "base_uri": "https://localhost:8080/"
        },
        "id": "3G_oykZgWqok",
        "outputId": "d37f64bd-0e03-4ee3-cbe2-8386e74de99d"
      },
      "outputs": [
        {
          "name": "stderr",
          "output_type": "stream",
          "text": [
            "/Users/valeriecowan/Library/Python/3.9/lib/python/site-packages/urllib3/__init__.py:35: NotOpenSSLWarning: urllib3 v2 only supports OpenSSL 1.1.1+, currently the 'ssl' module is compiled with 'LibreSSL 2.8.3'. See: https://github.com/urllib3/urllib3/issues/3020\n",
            "  warnings.warn(\n"
          ]
        },
        {
          "name": "stdout",
          "output_type": "stream",
          "text": [
            "loading Roboflow workspace...\n",
            "loading Roboflow project...\n"
          ]
        }
      ],
      "source": [
        "from roboflow import Roboflow\n",
        "rf = Roboflow(api_key=\"7cxew9iyBbltgkRKqUJT\")\n",
        "project = rf.workspace(\"myworkspace-8fngg\").project(\"dataset_1-ze0og\")\n",
        "version = project.version(9)\n",
        "dataset = version.download(\"yolov8\")"
      ]
    },
    {
      "cell_type": "code",
      "execution_count": 5,
      "metadata": {
        "colab": {
          "base_uri": "https://localhost:8080/",
          "height": 35
        },
        "id": "7tGe4JV-mn9r",
        "outputId": "594fdf5c-317c-4cd7-c3b5-dccb1075f458"
      },
      "outputs": [
        {
          "data": {
            "text/plain": [
              "'\\nfrom roboflow import Roboflow\\nrf = Roboflow(api_key=\"7cxew9iyBbltgkRKqUJT\")\\nproject = rf.workspace(\"myworkspace-8fngg\").project(\"dataset_1-ze0og\")\\nversion = project.version(8)\\ndataset = version.download(\"yolov8\")\\n'"
            ]
          },
          "execution_count": 5,
          "metadata": {},
          "output_type": "execute_result"
        }
      ],
      "source": [
        "'''\n",
        "from roboflow import Roboflow\n",
        "rf = Roboflow(api_key=\"7cxew9iyBbltgkRKqUJT\")\n",
        "project = rf.workspace(\"myworkspace-8fngg\").project(\"dataset_1-ze0og\")\n",
        "version = project.version(8)\n",
        "dataset = version.download(\"yolov8\")\n",
        "'''"
      ]
    },
    {
      "cell_type": "markdown",
      "metadata": {
        "id": "kUvz5LnJkWHt"
      },
      "source": []
    },
    {
      "cell_type": "code",
      "execution_count": 6,
      "metadata": {
        "colab": {
          "base_uri": "https://localhost:8080/"
        },
        "id": "B2p8nbFhag02",
        "outputId": "077e3e97-6889-4202-b26a-fa14ed246816"
      },
      "outputs": [
        {
          "name": "stdout",
          "output_type": "stream",
          "text": [
            "\u001b[34mDataset_1-8\u001b[m\u001b[m/               run_yolo_training-2.ipynb\n",
            "\u001b[34mDataset_1-9\u001b[m\u001b[m/               run_yolo_training.ipynb\n",
            "file.ipynb                 \u001b[34mruns\u001b[m\u001b[m/\n",
            "modified_yaml.yaml         yolov8n.pt\n"
          ]
        }
      ],
      "source": [
        "ls"
      ]
    },
    {
      "cell_type": "code",
      "execution_count": 7,
      "metadata": {
        "colab": {
          "base_uri": "https://localhost:8080/"
        },
        "id": "wyrqzsfvvnro",
        "outputId": "9f79d622-426a-48d5-9170-77da54bb00f9"
      },
      "outputs": [
        {
          "name": "stdout",
          "output_type": "stream",
          "text": [
            "/Users/valeriecowan/Desktop/Mathieu/Dataset_1-9\n"
          ]
        },
        {
          "name": "stderr",
          "output_type": "stream",
          "text": [
            "using dhist requires you to install the `pickleshare` library.\n"
          ]
        }
      ],
      "source": [
        "%cd Dataset_1-9/"
      ]
    },
    {
      "cell_type": "code",
      "execution_count": 8,
      "metadata": {
        "colab": {
          "base_uri": "https://localhost:8080/"
        },
        "id": "EwkbMXl4_S7V",
        "outputId": "2c9ff25c-9064-4d9e-fc49-71ebdfd0e6b4"
      },
      "outputs": [
        {
          "name": "stdout",
          "output_type": "stream",
          "text": [
            "README.dataset.txt          \u001b[34mtrain\u001b[m\u001b[m/\n",
            "README.roboflow.txt         \u001b[34mvalid\u001b[m\u001b[m/\n",
            "data.yaml                   yaml_initial_roboflow.yaml\n",
            "\u001b[34mtest\u001b[m\u001b[m/\n"
          ]
        }
      ],
      "source": [
        "ls"
      ]
    },
    {
      "cell_type": "code",
      "execution_count": null,
      "metadata": {
        "colab": {
          "base_uri": "https://localhost:8080/"
        },
        "id": "Rj2b1As8xSCZ",
        "outputId": "d02b811a-e507-4617-9e88-4baecb12711c"
      },
      "outputs": [
        {
          "name": "stdout",
          "output_type": "stream",
          "text": [
            "Contenu de data.yaml :\n",
            "\n",
            "nc: 80\n",
            "names:\n",
            "  0: person\n",
            "  1: bicycle\n",
            "  2: car\n",
            "  3: motorcycle\n",
            "  4: airplane\n",
            "  5: bus\n",
            "  6: train\n",
            "  7: truck\n",
            "  8: boat\n",
            "  9: traffic light\n",
            "  10: fire hydrant\n",
            "  11: stop sign\n",
            "  12: parking meter\n",
            "  13: bench\n",
            "  14: bird\n",
            "  15: cat\n",
            "  16: dog\n",
            "  17: horse\n",
            "  18: sheep\n",
            "  19: cow\n",
            "  20: elephant\n",
            "  21: bear\n",
            "  22: zebra\n",
            "  23: giraffe\n",
            "  24: backpack\n",
            "  25: umbrella\n",
            "  26: handbag\n",
            "  27: tie\n",
            "  28: suitcase\n",
            "  29: frisbee\n",
            "  30: skis\n",
            "  31: snowboard\n",
            "  32: sports ball\n",
            "  33: kite\n",
            "  34: baseball bat\n",
            "  35: baseball glove\n",
            "  36: skateboard\n",
            "  37: surfboard\n",
            "  38: tennis racket\n",
            "  39: bottle\n",
            "  40: wine glass\n",
            "  41: cup\n",
            "  42: fork\n",
            "  43: knife\n",
            "  44: spoon\n",
            "  45: bowl\n",
            "  46: banana\n",
            "  47: apple\n",
            "  48: sandwich\n",
            "  49: orange\n",
            "  50: barrier\n",
            "  51: carrot\n",
            "  52: post\n",
            "  53: cake\n",
            "  54: chair\n",
            "  55: obstacle\n",
            "  56: couch\n",
            "  57: potted plant\n",
            "  58: motorcycle\n",
            "  59: bed\n",
            "  60: dining table\n",
            "  61: toilet\n",
            "  62: tv\n",
            "  63: tree\n",
            "  64: laptop\n",
            "  65: mouse\n",
            "  66: remote\n",
            "  67: keyboard\n",
            "  68: cell phone\n",
            "  69: microwave\n",
            "  70: oven\n",
            "  71: toaster\n",
            "  72: sink\n",
            "  73: vehicule\n",
            "  74: refrigerator\n",
            "  75: book\n",
            "  76: wall\n",
            "  77: person\n",
            "  78: clock\n",
            "  79: vase\n",
            "roboflow:\n",
            "  license: CC BY 4.0\n",
            "  project: dataset_1-ze0og\n",
            "  url: https://universe.roboflow.com/myworkspace-8fngg/dataset_1-ze0og/dataset/9\n",
            "  version: 9\n",
            "  workspace: myworkspace-8fngg\n",
            "test: ../test/images\n",
            "train: ../train/images\n",
            "val: ../valid/images\n",
            "\n",
            "\n",
            "Contenu du premier .txt dans test/labels/ :\n",
            "\n",
            "Fichier : video_1_frame_130_jpg.rf.c48ae9e3aac46193bc26691efaf31c93.txt\n",
            "\n",
            "63 0.39453125 0.2734375 0.09765625 0.07578125\n",
            "63 0.71953125 0.26015625 0.11015625 0.10234375\n",
            "63 0.56015625 0.28125 0.15859375 0.0671875\n",
            "63 0.85234375 0.26796875 0.1125 0.08359375\n",
            "52 0.26796875 0.21015625 0.09765625 0.39140625\n",
            "52 0.67265625 0.25703125 0.06640625 0.23828125\n",
            "52 0.6625 0.31875 0.02109375 0.11328125\n",
            "52 0.28359375 0.2296875 0.05 0.3515625\n",
            "76 0.55703125 0.334375 0.78984375 0.053125\n",
            "73 0.0984375 0.3234375 0.196875 0.10390625\n"
          ]
        }
      ],
      "source": [
        "import yaml\n",
        "import os\n",
        "\n",
        "# 1. afficher le contenu de data.yaml\n",
        "print(\"Contenu de data.yaml :\\n\")\n",
        "with open(\"data.yaml\", \"r\") as f:\n",
        "    data_yaml = yaml.safe_load(f)\n",
        "    print(yaml.dump(data_yaml, sort_keys=False))\n",
        "\n",
        "\n"
      ]
    },
    {
      "cell_type": "markdown",
      "metadata": {
        "id": "1XJ3Hz2JxcyI"
      },
      "source": [
        "update the indexes to replace unwanted classes in the YOLO model (see the custom_map to see the exact changes)"
      ]
    },
    {
      "cell_type": "code",
      "execution_count": null,
      "metadata": {},
      "outputs": [],
      "source": [
        "# 2. afficher le contenu du premier .txt dans test/labels/\n",
        "print(\"\\nContenu du premier .txt dans test/labels/ :\\n\")\n",
        "label_dir = \"test/labels\"\n",
        "txt_files = [f for f in os.listdir(label_dir) if f.endswith(\".txt\")]\n",
        "\n",
        "if txt_files:\n",
        "    first_file = txt_files[0]\n",
        "    print(f\"Fichier : {first_file}\\n\")\n",
        "    with open(os.path.join(label_dir, first_file), \"r\") as f:\n",
        "        print(f.read())\n",
        "else:\n",
        "    print(\"Aucun fichier .txt trouvé dans test/labels/\")"
      ]
    },
    {
      "cell_type": "markdown",
      "metadata": {},
      "source": [
        "Index mapping"
      ]
    },
    {
      "cell_type": "code",
      "execution_count": 10,
      "metadata": {
        "id": "Y-IBNB52AEIT"
      },
      "outputs": [],
      "source": [
        "import os\n",
        "\n",
        "# Mapping Roboflow index → COCO index\n",
        "custom_map = {\n",
        "    0: 50,  # barrier\n",
        "    1: 58,  # motorcycle\n",
        "    2: 55,  # obstacle\n",
        "    3: 77,  # person (custom)\n",
        "    4: 52,  # post\n",
        "    5: 63,  # tree\n",
        "    6: 73,  # vehicule\n",
        "    7: 76   # wall\n",
        "}\n",
        "\n",
        "def remap_labels_in_folder(label_dir):\n",
        "    for fname in os.listdir(label_dir):\n",
        "        if fname.endswith(\".txt\"):\n",
        "            fpath = os.path.join(label_dir, fname)\n",
        "            with open(fpath, 'r') as f:\n",
        "                lines = f.readlines()\n",
        "\n",
        "            new_lines = []\n",
        "            for line in lines:\n",
        "                parts = line.strip().split()\n",
        "                if len(parts) != 5:\n",
        "                    continue\n",
        "                old_idx = int(parts[0])\n",
        "                if old_idx in custom_map:\n",
        "                    parts[0] = str(custom_map[old_idx])\n",
        "                    new_lines.append(' '.join(parts))\n",
        "\n",
        "            with open(fpath, 'w') as f:\n",
        "                f.write('\\n'.join(new_lines))\n",
        "\n",
        "# Appliquer sur train/labels, valid/labels, test/labels\n",
        "for split in ['train', 'valid', 'test']:\n",
        "    label_path = f\"{split}/labels\"\n",
        "    if os.path.exists(label_path):\n",
        "        remap_labels_in_folder(label_path)\n"
      ]
    },
    {
      "cell_type": "code",
      "execution_count": 11,
      "metadata": {
        "colab": {
          "base_uri": "https://localhost:8080/"
        },
        "id": "8BJSPQJlx021",
        "outputId": "1414b858-6b60-4e57-d2cc-6c75adf25751"
      },
      "outputs": [
        {
          "name": "stdout",
          "output_type": "stream",
          "text": [
            "\n",
            "Contenu du premier .txt dans test/labels/ :\n",
            "\n",
            "Fichier : video_1_frame_130_jpg.rf.c48ae9e3aac46193bc26691efaf31c93.txt\n",
            "\n",
            "\n"
          ]
        }
      ],
      "source": [
        "print(\"\\nContenu du premier .txt dans test/labels/ :\\n\")\n",
        "label_dir = \"test/labels\"\n",
        "txt_files = [f for f in os.listdir(label_dir) if f.endswith(\".txt\")]\n",
        "\n",
        "if txt_files:\n",
        "    first_file = txt_files[0]\n",
        "    print(f\"Fichier : {first_file}\\n\")\n",
        "    with open(os.path.join(label_dir, first_file), \"r\") as f:\n",
        "        print(f.read())\n",
        "else:\n",
        "    print(\"Aucun fichier .txt trouvé dans test/labels/\")"
      ]
    },
    {
      "cell_type": "code",
      "execution_count": 12,
      "metadata": {
        "colab": {
          "base_uri": "https://localhost:8080/"
        },
        "id": "IesecvldyTGi",
        "outputId": "5bf84529-c168-4719-c995-12da1146208c"
      },
      "outputs": [
        {
          "name": "stdout",
          "output_type": "stream",
          "text": [
            "\n",
            "📂 Vérification dans train/labels:\n",
            "\n",
            "📂 Vérification dans valid/labels:\n",
            "\n",
            "📂 Vérification dans test/labels:\n"
          ]
        }
      ],
      "source": [
        "#check corrections of indexes\n",
        "import os\n",
        "\n",
        "label_folders = [\"train/labels\", \"valid/labels\", \"test/labels\"]\n",
        "expected_indices = {50, 52, 55, 58, 63, 73, 76, 77}\n",
        "\n",
        "for folder in label_folders:\n",
        "    print(f\"\\n📂 Vérification dans {folder}:\")\n",
        "    for fname in os.listdir(folder):\n",
        "        if fname.endswith(\".txt\"):\n",
        "            with open(os.path.join(folder, fname)) as f:\n",
        "                lines = f.readlines()\n",
        "                for i, line in enumerate(lines):\n",
        "                    label_idx = int(line.split()[0])\n",
        "                    if label_idx not in expected_indices:\n",
        "                        print(f\"⚠️ {fname} ligne {i+1} → index {label_idx} inattendu\")\n"
      ]
    },
    {
      "cell_type": "markdown",
      "metadata": {
        "id": "KVVeTbOJylxM"
      },
      "source": [
        "if no logs, there are no anomalies"
      ]
    },
    {
      "cell_type": "code",
      "execution_count": 13,
      "metadata": {
        "colab": {
          "base_uri": "https://localhost:8080/"
        },
        "id": "izRp87woUy_S",
        "outputId": "63b90952-87ef-4404-dc61-0e7e723addc6"
      },
      "outputs": [
        {
          "name": "stdout",
          "output_type": "stream",
          "text": [
            "README.dataset.txt          \u001b[34mtrain\u001b[m\u001b[m/\n",
            "README.roboflow.txt         \u001b[34mvalid\u001b[m\u001b[m/\n",
            "data.yaml                   yaml_initial_roboflow.yaml\n",
            "\u001b[34mtest\u001b[m\u001b[m/\n"
          ]
        }
      ],
      "source": [
        "ls"
      ]
    },
    {
      "cell_type": "code",
      "execution_count": 14,
      "metadata": {
        "colab": {
          "base_uri": "https://localhost:8080/"
        },
        "id": "yDeHLShjyn-r",
        "outputId": "e7676c0f-670e-4b7b-8d15-343fa16ca5ac"
      },
      "outputs": [
        {
          "name": "stdout",
          "output_type": "stream",
          "text": [
            "/Users/valeriecowan/Desktop/Mathieu\n"
          ]
        }
      ],
      "source": [
        "%cd ../"
      ]
    },
    {
      "cell_type": "code",
      "execution_count": 15,
      "metadata": {
        "colab": {
          "base_uri": "https://localhost:8080/"
        },
        "id": "xBJ1ySZU0CRS",
        "outputId": "a265a1be-8118-43e2-e0a8-6dacc8def82e"
      },
      "outputs": [
        {
          "name": "stdout",
          "output_type": "stream",
          "text": [
            "\u001b[34mDataset_1-8\u001b[m\u001b[m/               run_yolo_training-2.ipynb\n",
            "\u001b[34mDataset_1-9\u001b[m\u001b[m/               run_yolo_training.ipynb\n",
            "file.ipynb                 \u001b[34mruns\u001b[m\u001b[m/\n",
            "modified_yaml.yaml         yolov8n.pt\n"
          ]
        }
      ],
      "source": [
        "ls"
      ]
    },
    {
      "cell_type": "code",
      "execution_count": 16,
      "metadata": {
        "colab": {
          "base_uri": "https://localhost:8080/"
        },
        "id": "SgowAESH1bvM",
        "outputId": "45619e54-caee-4e7d-b134-dab5112b6a3d"
      },
      "outputs": [
        {
          "name": "stdout",
          "output_type": "stream",
          "text": [
            "-rw-r--r--@ 1 valeriecowan  staff   6.2M May 18 12:13 yolov8n.pt\n"
          ]
        }
      ],
      "source": [
        "!ls -lh yolov8n.pt\n",
        "\n"
      ]
    },
    {
      "cell_type": "markdown",
      "metadata": {
        "id": "LK_YwYwj1oRw"
      },
      "source": [
        "There was a pb with yolo we redownload it"
      ]
    },
    {
      "cell_type": "code",
      "execution_count": 17,
      "metadata": {
        "colab": {
          "base_uri": "https://localhost:8080/"
        },
        "id": "1lKE6lNo1i2D",
        "outputId": "56d0d1af-0ca7-4e9a-e31e-0b6eebe24d02"
      },
      "outputs": [
        {
          "name": "stdout",
          "output_type": "stream",
          "text": [
            "Téléchargement terminé.\n"
          ]
        }
      ],
      "source": [
        "import requests\n",
        "\n",
        "url = \"https://github.com/ultralytics/assets/releases/download/v0.0.0/yolov8n.pt\"\n",
        "output_path = \"yolov8n.pt\"\n",
        "\n",
        "response = requests.get(url)\n",
        "with open(output_path, \"wb\") as f:\n",
        "    f.write(response.content)\n",
        "\n",
        "print(\"Téléchargement terminé.\")\n",
        "\n"
      ]
    },
    {
      "cell_type": "code",
      "execution_count": 18,
      "metadata": {
        "colab": {
          "base_uri": "https://localhost:8080/"
        },
        "id": "wRlTxVR2Wqow",
        "outputId": "bab1b13e-5bf2-4262-e087-64d698d3241a"
      },
      "outputs": [
        {
          "name": "stdout",
          "output_type": "stream",
          "text": [
            "-rw-r--r--@ 1 valeriecowan  staff   6.2M May 18 15:55 yolov8n.pt\n"
          ]
        }
      ],
      "source": [
        "!ls -lh yolov8n.pt"
      ]
    },
    {
      "cell_type": "markdown",
      "metadata": {
        "id": "c7c-Wo8mWqox"
      },
      "source": [
        "Vérification de la cohérence des labels/classes avant de faire l'entrainement"
      ]
    },
    {
      "cell_type": "code",
      "execution_count": 19,
      "metadata": {
        "colab": {
          "base_uri": "https://localhost:8080/"
        },
        "id": "PmzoexfWWqoy",
        "outputId": "dd2a7350-1735-49e7-bcbf-d219a669403b"
      },
      "outputs": [
        {
          "name": "stdout",
          "output_type": "stream",
          "text": [
            "\u001b[34mDataset_1-8\u001b[m\u001b[m/               run_yolo_training-2.ipynb\n",
            "\u001b[34mDataset_1-9\u001b[m\u001b[m/               run_yolo_training.ipynb\n",
            "file.ipynb                 \u001b[34mruns\u001b[m\u001b[m/\n",
            "modified_yaml.yaml         yolov8n.pt\n"
          ]
        }
      ],
      "source": [
        "ls"
      ]
    },
    {
      "cell_type": "code",
      "execution_count": 20,
      "metadata": {
        "colab": {
          "base_uri": "https://localhost:8080/"
        },
        "id": "69Lq1Vc8Wqo0",
        "outputId": "2da00e57-86ed-4538-8465-da2101abf887"
      },
      "outputs": [
        {
          "name": "stdout",
          "output_type": "stream",
          "text": [
            "nc: 80\n",
            "\n",
            "names:\n",
            "  0: person\n",
            "  1: bicycle\n",
            "  2: car\n",
            "  3: motorcycle\n",
            "  4: airplane\n",
            "  5: bus\n",
            "  6: train\n",
            "  7: truck\n",
            "  8: boat\n",
            "  9: traffic light\n",
            "  10: fire hydrant\n",
            "  11: stop sign\n",
            "  12: parking meter\n",
            "  13: bench\n",
            "  14: bird\n",
            "  15: cat\n",
            "  16: dog\n",
            "  17: horse\n",
            "  18: sheep\n",
            "  19: cow\n",
            "  20: elephant\n",
            "  21: bear\n",
            "  22: zebra\n",
            "  23: giraffe\n",
            "  24: backpack\n",
            "  25: umbrella\n",
            "  26: handbag\n",
            "  27: tie\n",
            "  28: suitcase\n",
            "  29: frisbee\n",
            "  30: skis\n",
            "  31: snowboard\n",
            "  32: sports ball\n",
            "  33: kite\n",
            "  34: baseball bat\n",
            "  35: baseball glove\n",
            "  36: skateboard\n",
            "  37: surfboard\n",
            "  38: tennis racket\n",
            "  39: bottle\n",
            "  40: wine glass\n",
            "  41: cup\n",
            "  42: fork\n",
            "  43: knife\n",
            "  44: spoon\n",
            "  45: bowl\n",
            "  46: banana\n",
            "  47: apple\n",
            "  48: sandwich\n",
            "  49: orange\n",
            "  50: barrier\n",
            "  51: carrot\n",
            "  52: post\n",
            "  53: cake\n",
            "  54: chair\n",
            "  55: obstacle\n",
            "  56: couch\n",
            "  57: potted plant\n",
            "  58: motorcycle\n",
            "  59: bed\n",
            "  60: dining table\n",
            "  61: toilet\n",
            "  62: tv\n",
            "  63: tree\n",
            "  64: laptop\n",
            "  65: mouse\n",
            "  66: remote\n",
            "  67: keyboard\n",
            "  68: cell phone\n",
            "  69: microwave\n",
            "  70: oven\n",
            "  71: toaster\n",
            "  72: sink\n",
            "  73: vehicule\n",
            "  74: refrigerator\n",
            "  75: book\n",
            "  76: wall\n",
            "  77: person\n",
            "  78: clock\n",
            "  79: vase\n",
            "\n",
            "roboflow:\n",
            "  license: CC BY 4.0\n",
            "  project: dataset_1-ze0og\n",
            "  url: https://universe.roboflow.com/myworkspace-8fngg/dataset_1-ze0og/dataset/9\n",
            "  version: 9\n",
            "  workspace: myworkspace-8fngg\n",
            "test: ../test/images\n",
            "train: ../train/images\n",
            "val: ../valid/images\n",
            "\n"
          ]
        }
      ],
      "source": [
        "# Lecture et affichage du contenu du YAML\n",
        "yaml_file = \"Dataset_1-9/data.yaml\"\n",
        "\n",
        "with open(yaml_file, \"r\", encoding=\"utf-8\") as f:\n",
        "    content = f.read()\n",
        "\n",
        "print(content)\n"
      ]
    },
    {
      "cell_type": "code",
      "execution_count": 21,
      "metadata": {
        "colab": {
          "base_uri": "https://localhost:8080/"
        },
        "id": "uT9u4R3iWqo1",
        "outputId": "e58c87db-e99d-43fd-feb1-eff627532cd8"
      },
      "outputs": [
        {
          "name": "stdout",
          "output_type": "stream",
          "text": [
            "Backup existant trouvé : 'Dataset_1-9/yaml_initial_roboflow.yaml' - sauvegarde non écrasée\n",
            "Fichier 'Dataset_1-9/data.yaml' mis à jour avec la nouvelle configuration.\n"
          ]
        }
      ],
      "source": [
        "import os\n",
        "\n",
        "yaml_file = \"Dataset_1-9/data.yaml\"\n",
        "backup_file = \"Dataset_1-9/yaml_initial_roboflow.yaml\"\n",
        "\n",
        "replacement_text = \"\"\"\\\n",
        "nc: 80\n",
        "\n",
        "names:\n",
        "  0: person\n",
        "  1: bicycle\n",
        "  2: car\n",
        "  3: motorcycle\n",
        "  4: airplane\n",
        "  5: bus\n",
        "  6: train\n",
        "  7: truck\n",
        "  8: boat\n",
        "  9: traffic light\n",
        "  10: fire hydrant\n",
        "  11: stop sign\n",
        "  12: parking meter\n",
        "  13: bench\n",
        "  14: bird\n",
        "  15: cat\n",
        "  16: dog\n",
        "  17: horse\n",
        "  18: sheep\n",
        "  19: cow\n",
        "  20: elephant\n",
        "  21: bear\n",
        "  22: zebra\n",
        "  23: giraffe\n",
        "  24: backpack\n",
        "  25: umbrella\n",
        "  26: handbag\n",
        "  27: tie\n",
        "  28: suitcase\n",
        "  29: frisbee\n",
        "  30: skis\n",
        "  31: snowboard\n",
        "  32: sports ball\n",
        "  33: kite\n",
        "  34: baseball bat\n",
        "  35: baseball glove\n",
        "  36: skateboard\n",
        "  37: surfboard\n",
        "  38: tennis racket\n",
        "  39: bottle\n",
        "  40: wine glass\n",
        "  41: cup\n",
        "  42: fork\n",
        "  43: knife\n",
        "  44: spoon\n",
        "  45: bowl\n",
        "  46: banana\n",
        "  47: apple\n",
        "  48: sandwich\n",
        "  49: orange\n",
        "  50: barrier\n",
        "  51: carrot\n",
        "  52: post\n",
        "  53: cake\n",
        "  54: chair\n",
        "  55: obstacle\n",
        "  56: couch\n",
        "  57: potted plant\n",
        "  58: motorcycle\n",
        "  59: bed\n",
        "  60: dining table\n",
        "  61: toilet\n",
        "  62: tv\n",
        "  63: tree\n",
        "  64: laptop\n",
        "  65: mouse\n",
        "  66: remote\n",
        "  67: keyboard\n",
        "  68: cell phone\n",
        "  69: microwave\n",
        "  70: oven\n",
        "  71: toaster\n",
        "  72: sink\n",
        "  73: vehicule\n",
        "  74: refrigerator\n",
        "  75: book\n",
        "  76: wall\n",
        "  77: person\n",
        "  78: clock\n",
        "  79: vase\n",
        "\"\"\"\n",
        "\n",
        "# Lire le YAML original\n",
        "with open(yaml_file, \"r\", encoding=\"utf-8\") as f:\n",
        "    original_content = f.read()\n",
        "\n",
        "# Créer le backup uniquement s’il n’existe pas déjà\n",
        "if not os.path.exists(backup_file):\n",
        "    with open(backup_file, \"w\", encoding=\"utf-8\") as f:\n",
        "        f.write(original_content)\n",
        "    print(f\"Backup créé : '{backup_file}'\")\n",
        "else:\n",
        "    print(f\"Backup existant trouvé : '{backup_file}' - sauvegarde non écrasée\")\n",
        "\n",
        "# Trouver l’index de la ligne 'roboflow:'\n",
        "lines = original_content.splitlines(keepends=True)\n",
        "start_idx = None\n",
        "for i, line in enumerate(lines):\n",
        "    if line.strip().startswith(\"roboflow:\"):\n",
        "        start_idx = i\n",
        "        break\n",
        "\n",
        "if start_idx is None:\n",
        "    raise ValueError(\"La clé 'roboflow:' n'a pas été trouvée dans le fichier YAML.\")\n",
        "\n",
        "# Construire le nouveau contenu YAML\n",
        "new_content = replacement_text.rstrip() + \"\\n\\n\" + \"\".join(lines[start_idx:])\n",
        "\n",
        "# Écrire dans le fichier YAML original\n",
        "with open(yaml_file, \"w\", encoding=\"utf-8\") as f:\n",
        "    f.write(new_content)\n",
        "\n",
        "print(f\"Fichier '{yaml_file}' mis à jour avec la nouvelle configuration.\")\n"
      ]
    },
    {
      "cell_type": "code",
      "execution_count": 22,
      "metadata": {
        "colab": {
          "base_uri": "https://localhost:8080/"
        },
        "id": "5nP7BhpBZXWu",
        "outputId": "c5bca5b5-c873-4423-fa56-740e7b729a27"
      },
      "outputs": [
        {
          "name": "stdout",
          "output_type": "stream",
          "text": [
            "\u001b[34mDataset_1-8\u001b[m\u001b[m/               run_yolo_training-2.ipynb\n",
            "\u001b[34mDataset_1-9\u001b[m\u001b[m/               run_yolo_training.ipynb\n",
            "file.ipynb                 \u001b[34mruns\u001b[m\u001b[m/\n",
            "modified_yaml.yaml         yolov8n.pt\n"
          ]
        }
      ],
      "source": [
        "ls"
      ]
    },
    {
      "cell_type": "code",
      "execution_count": 23,
      "metadata": {
        "colab": {
          "base_uri": "https://localhost:8080/"
        },
        "id": "ldAHrJ8ZZd9Q",
        "outputId": "18be3e53-f638-4194-cff3-3d6c7e95cf9b"
      },
      "outputs": [
        {
          "name": "stdout",
          "output_type": "stream",
          "text": [
            "/Users/valeriecowan/Desktop/Mathieu/Dataset_1-9\n"
          ]
        }
      ],
      "source": [
        "%cd Dataset_1-9/"
      ]
    },
    {
      "cell_type": "code",
      "execution_count": null,
      "metadata": {
        "colab": {
          "base_uri": "https://localhost:8080/"
        },
        "id": "dxeg8pWJWqo1",
        "outputId": "3722349c-1211-4c7d-c3a9-675a14f9d9df"
      },
      "outputs": [
        {
          "name": "stdout",
          "output_type": "stream",
          "text": [
            "\n",
            "🔍 Vérification des labels dans : train/labels\n",
            "\n",
            "🔍 Vérification des labels dans : valid/labels\n",
            "\n",
            "🔍 Vérification des labels dans : test/labels\n",
            "\n",
            "✅ Tous les fichiers de labels sont corrects.\n"
          ]
        }
      ],
      "source": [
        "import os\n",
        "\n",
        "def check_labels(folder_paths, max_class_index=79):\n",
        "    errors_found = False\n",
        "\n",
        "    for folder in folder_paths:\n",
        "        label_dir = os.path.join(folder, \"labels\")\n",
        "        if not os.path.exists(label_dir):\n",
        "            print(f\"⚠️ Le dossier {label_dir} n'existe pas.\")\n",
        "            continue\n",
        "\n",
        "        print(f\"\\n🔍 Vérification des labels dans : {label_dir}\")\n",
        "        for fname in os.listdir(label_dir):\n",
        "            if not fname.endswith(\".txt\"):\n",
        "                continue\n",
        "            fpath = os.path.join(label_dir, fname)\n",
        "            try:\n",
        "                with open(fpath, \"r\") as f:\n",
        "                    lines = f.readlines()\n",
        "            except Exception as e:\n",
        "                print(f\"Impossible de lire {fpath}: {e}\")\n",
        "                errors_found = True\n",
        "                continue\n",
        "\n",
        "            for i, line in enumerate(lines):\n",
        "                parts = line.strip().split()\n",
        "                if len(parts) != 5:\n",
        "                    print(f\"Format incorrect dans {fname} ligne {i+1}: '{line.strip()}' (attendu: 5 éléments)\")\n",
        "                    errors_found = True\n",
        "                    continue\n",
        "                try:\n",
        "                    cls = int(parts[0])\n",
        "                    if cls < 0 or cls > max_class_index:\n",
        "                        print(f\"Classe invalide dans {fname} ligne {i+1}: {cls} (doit être entre 0 et {max_class_index})\")\n",
        "                        errors_found = True\n",
        "                except ValueError:\n",
        "                    print(f\"Classe non entière dans {fname} ligne {i+1}: '{parts[0]}'\")\n",
        "                    errors_found = True\n",
        "\n",
        "    if not errors_found:\n",
        "        print(\"\\nTous les fichiers de labels sont corrects.\")\n",
        "    else:\n",
        "        print(\"\\nErreurs détectées dans les fichiers de labels, merci de corriger avant l'entraînement.\")\n",
        "\n",
        "# Appel de la fonction\n",
        "check_labels([\"train\", \"valid\", \"test\"], max_class_index=79)\n"
      ]
    },
    {
      "cell_type": "code",
      "execution_count": 25,
      "metadata": {
        "colab": {
          "base_uri": "https://localhost:8080/"
        },
        "id": "Gsp4PJZ-Wqo2",
        "outputId": "e57de6a9-33e2-4a50-a16d-0ea9fac62a6c"
      },
      "outputs": [
        {
          "name": "stdout",
          "output_type": "stream",
          "text": [
            "/Users/valeriecowan/Desktop/Mathieu\n"
          ]
        }
      ],
      "source": [
        "%cd ../"
      ]
    },
    {
      "cell_type": "code",
      "execution_count": 26,
      "metadata": {
        "colab": {
          "base_uri": "https://localhost:8080/"
        },
        "id": "clS3De70Wqo4",
        "outputId": "59081f1b-28f9-4d31-83e6-2325fd460ece"
      },
      "outputs": [
        {
          "name": "stdout",
          "output_type": "stream",
          "text": [
            "\u001b[34mDataset_1-8\u001b[m\u001b[m/               run_yolo_training-2.ipynb\n",
            "\u001b[34mDataset_1-9\u001b[m\u001b[m/               run_yolo_training.ipynb\n",
            "file.ipynb                 \u001b[34mruns\u001b[m\u001b[m/\n",
            "modified_yaml.yaml         yolov8n.pt\n"
          ]
        }
      ],
      "source": [
        "ls"
      ]
    },
    {
      "cell_type": "code",
      "execution_count": 27,
      "metadata": {
        "id": "Cmd937ceWqo5"
      },
      "outputs": [],
      "source": [
        "#pip install --upgrade --force-reinstall numpy\n"
      ]
    },
    {
      "cell_type": "code",
      "execution_count": 28,
      "metadata": {
        "colab": {
          "base_uri": "https://localhost:8080/"
        },
        "id": "sEViN30uWqo6",
        "outputId": "1896d480-8502-4832-e28b-c48d1f48f736"
      },
      "outputs": [
        {
          "name": "stderr",
          "output_type": "stream",
          "text": [
            "\n",
            "A module that was compiled using NumPy 1.x cannot be run in\n",
            "NumPy 2.0.2 as it may crash. To support both 1.x and 2.x\n",
            "versions of NumPy, modules must be compiled with NumPy 2.0.\n",
            "Some module may need to rebuild instead e.g. with 'pybind11>=2.12'.\n",
            "\n",
            "If you are a user of the module, the easiest solution will be to\n",
            "downgrade to 'numpy<2' or try to upgrade the affected module.\n",
            "We expect that some modules will need time to support NumPy 2.\n",
            "\n",
            "Traceback (most recent call last):  File \"/Library/Developer/CommandLineTools/Library/Frameworks/Python3.framework/Versions/3.9/lib/python3.9/runpy.py\", line 197, in _run_module_as_main\n",
            "    return _run_code(code, main_globals, None,\n",
            "  File \"/Library/Developer/CommandLineTools/Library/Frameworks/Python3.framework/Versions/3.9/lib/python3.9/runpy.py\", line 87, in _run_code\n",
            "    exec(code, run_globals)\n",
            "  File \"/Users/valeriecowan/Library/Python/3.9/lib/python/site-packages/ipykernel_launcher.py\", line 18, in <module>\n",
            "    app.launch_new_instance()\n",
            "  File \"/Users/valeriecowan/Library/Python/3.9/lib/python/site-packages/traitlets/config/application.py\", line 1075, in launch_instance\n",
            "    app.start()\n",
            "  File \"/Users/valeriecowan/Library/Python/3.9/lib/python/site-packages/ipykernel/kernelapp.py\", line 739, in start\n",
            "    self.io_loop.start()\n",
            "  File \"/Users/valeriecowan/Library/Python/3.9/lib/python/site-packages/tornado/platform/asyncio.py\", line 211, in start\n",
            "    self.asyncio_loop.run_forever()\n",
            "  File \"/Library/Developer/CommandLineTools/Library/Frameworks/Python3.framework/Versions/3.9/lib/python3.9/asyncio/base_events.py\", line 596, in run_forever\n",
            "    self._run_once()\n",
            "  File \"/Library/Developer/CommandLineTools/Library/Frameworks/Python3.framework/Versions/3.9/lib/python3.9/asyncio/base_events.py\", line 1890, in _run_once\n",
            "    handle._run()\n",
            "  File \"/Library/Developer/CommandLineTools/Library/Frameworks/Python3.framework/Versions/3.9/lib/python3.9/asyncio/events.py\", line 80, in _run\n",
            "    self._context.run(self._callback, *self._args)\n",
            "  File \"/Users/valeriecowan/Library/Python/3.9/lib/python/site-packages/ipykernel/kernelbase.py\", line 545, in dispatch_queue\n",
            "    await self.process_one()\n",
            "  File \"/Users/valeriecowan/Library/Python/3.9/lib/python/site-packages/ipykernel/kernelbase.py\", line 534, in process_one\n",
            "    await dispatch(*args)\n",
            "  File \"/Users/valeriecowan/Library/Python/3.9/lib/python/site-packages/ipykernel/kernelbase.py\", line 437, in dispatch_shell\n",
            "    await result\n",
            "  File \"/Users/valeriecowan/Library/Python/3.9/lib/python/site-packages/ipykernel/ipkernel.py\", line 362, in execute_request\n",
            "    await super().execute_request(stream, ident, parent)\n",
            "  File \"/Users/valeriecowan/Library/Python/3.9/lib/python/site-packages/ipykernel/kernelbase.py\", line 778, in execute_request\n",
            "    reply_content = await reply_content\n",
            "  File \"/Users/valeriecowan/Library/Python/3.9/lib/python/site-packages/ipykernel/ipkernel.py\", line 449, in do_execute\n",
            "    res = shell.run_cell(\n",
            "  File \"/Users/valeriecowan/Library/Python/3.9/lib/python/site-packages/ipykernel/zmqshell.py\", line 549, in run_cell\n",
            "    return super().run_cell(*args, **kwargs)\n",
            "  File \"/Users/valeriecowan/Library/Python/3.9/lib/python/site-packages/IPython/core/interactiveshell.py\", line 3048, in run_cell\n",
            "    result = self._run_cell(\n",
            "  File \"/Users/valeriecowan/Library/Python/3.9/lib/python/site-packages/IPython/core/interactiveshell.py\", line 3103, in _run_cell\n",
            "    result = runner(coro)\n",
            "  File \"/Users/valeriecowan/Library/Python/3.9/lib/python/site-packages/IPython/core/async_helpers.py\", line 129, in _pseudo_sync_runner\n",
            "    coro.send(None)\n",
            "  File \"/Users/valeriecowan/Library/Python/3.9/lib/python/site-packages/IPython/core/interactiveshell.py\", line 3308, in run_cell_async\n",
            "    has_raised = await self.run_ast_nodes(code_ast.body, cell_name,\n",
            "  File \"/Users/valeriecowan/Library/Python/3.9/lib/python/site-packages/IPython/core/interactiveshell.py\", line 3490, in run_ast_nodes\n",
            "    if await self.run_code(code, result, async_=asy):\n",
            "  File \"/Users/valeriecowan/Library/Python/3.9/lib/python/site-packages/IPython/core/interactiveshell.py\", line 3550, in run_code\n",
            "    exec(code_obj, self.user_global_ns, self.user_ns)\n",
            "  File \"/var/folders/t7/w_3phk6d6mx348tl1sl4yw3c0000gn/T/ipykernel_14732/2092054062.py\", line 1, in <module>\n",
            "    import torch\n",
            "  File \"/Users/valeriecowan/Library/Python/3.9/lib/python/site-packages/torch/__init__.py\", line 1477, in <module>\n",
            "    from .functional import *  # noqa: F403\n",
            "  File \"/Users/valeriecowan/Library/Python/3.9/lib/python/site-packages/torch/functional.py\", line 9, in <module>\n",
            "    import torch.nn.functional as F\n",
            "  File \"/Users/valeriecowan/Library/Python/3.9/lib/python/site-packages/torch/nn/__init__.py\", line 1, in <module>\n",
            "    from .modules import *  # noqa: F403\n",
            "  File \"/Users/valeriecowan/Library/Python/3.9/lib/python/site-packages/torch/nn/modules/__init__.py\", line 35, in <module>\n",
            "    from .transformer import TransformerEncoder, TransformerDecoder, \\\n",
            "  File \"/Users/valeriecowan/Library/Python/3.9/lib/python/site-packages/torch/nn/modules/transformer.py\", line 20, in <module>\n",
            "    device: torch.device = torch.device(torch._C._get_default_device()),  # torch.device('cpu'),\n",
            "Failed to initialize NumPy: _ARRAY_API not found (Triggered internally at /Users/runner/work/pytorch/pytorch/pytorch/torch/csrc/utils/tensor_numpy.cpp:84.)\n"
          ]
        },
        {
          "name": "stdout",
          "output_type": "stream",
          "text": [
            "PyTorch version: 2.2.2\n",
            "NumPy version: 2.0.2\n"
          ]
        }
      ],
      "source": [
        "import torch\n",
        "import numpy\n",
        "\n",
        "print(\"PyTorch version:\", torch.__version__)\n",
        "print(\"NumPy version:\", numpy.__version__)\n"
      ]
    },
    {
      "cell_type": "code",
      "execution_count": 29,
      "metadata": {
        "colab": {
          "base_uri": "https://localhost:8080/",
          "height": 378
        },
        "id": "Np-3NQKUypRh",
        "outputId": "50da45f6-237e-4f88-92bc-7bd36888ac48"
      },
      "outputs": [
        {
          "name": "stdout",
          "output_type": "stream",
          "text": [
            "New https://pypi.org/project/ultralytics/8.3.139 available 😃 Update with 'pip install -U ultralytics'\n",
            "Ultralytics 8.3.138 🚀 Python-3.9.6 torch-2.2.2 CPU (Intel Core(TM) i5-7500 3.40GHz)\n",
            "\u001b[34m\u001b[1mengine/trainer: \u001b[0magnostic_nms=False, amp=True, augment=False, auto_augment=randaugment, batch=16, bgr=0.0, box=7.5, cache=False, cfg=None, classes=None, close_mosaic=10, cls=0.5, conf=None, copy_paste=0.0, copy_paste_mode=flip, cos_lr=False, cutmix=0.0, data=Dataset_1-9/data.yaml, degrees=0.0, deterministic=True, device=cpu, dfl=1.5, dnn=False, dropout=0.0, dynamic=False, embed=None, epochs=50, erasing=0.4, exist_ok=False, fliplr=0.5, flipud=0.0, format=torchscript, fraction=1.0, freeze=None, half=False, hsv_h=0.015, hsv_s=0.7, hsv_v=0.4, imgsz=640, int8=False, iou=0.7, keras=False, kobj=1.0, line_width=None, lr0=0.01, lrf=0.01, mask_ratio=4, max_det=300, mixup=0.0, mode=train, model=yolov8n.pt, momentum=0.937, mosaic=1.0, multi_scale=False, name=train12, nbs=64, nms=False, opset=None, optimize=False, optimizer=auto, overlap_mask=True, patience=100, perspective=0.0, plots=True, pose=12.0, pretrained=True, profile=False, project=None, rect=False, resume=False, retina_masks=False, save=True, save_conf=False, save_crop=False, save_dir=runs/detect/train12, save_frames=False, save_json=False, save_period=-1, save_txt=False, scale=0.5, seed=0, shear=0.0, show=False, show_boxes=True, show_conf=True, show_labels=True, simplify=True, single_cls=False, source=None, split=val, stream_buffer=False, task=detect, time=None, tracker=botsort.yaml, translate=0.1, val=True, verbose=True, vid_stride=1, visualize=False, warmup_bias_lr=0.1, warmup_epochs=3.0, warmup_momentum=0.8, weight_decay=0.0005, workers=8, workspace=None\n",
            "\n",
            "                   from  n    params  module                                       arguments                     \n",
            "  0                  -1  1       464  ultralytics.nn.modules.conv.Conv             [3, 16, 3, 2]                 \n",
            "  1                  -1  1      4672  ultralytics.nn.modules.conv.Conv             [16, 32, 3, 2]                \n",
            "  2                  -1  1      7360  ultralytics.nn.modules.block.C2f             [32, 32, 1, True]             \n",
            "  3                  -1  1     18560  ultralytics.nn.modules.conv.Conv             [32, 64, 3, 2]                \n",
            "  4                  -1  2     49664  ultralytics.nn.modules.block.C2f             [64, 64, 2, True]             \n",
            "  5                  -1  1     73984  ultralytics.nn.modules.conv.Conv             [64, 128, 3, 2]               \n",
            "  6                  -1  2    197632  ultralytics.nn.modules.block.C2f             [128, 128, 2, True]           \n",
            "  7                  -1  1    295424  ultralytics.nn.modules.conv.Conv             [128, 256, 3, 2]              \n",
            "  8                  -1  1    460288  ultralytics.nn.modules.block.C2f             [256, 256, 1, True]           \n",
            "  9                  -1  1    164608  ultralytics.nn.modules.block.SPPF            [256, 256, 5]                 \n",
            " 10                  -1  1         0  torch.nn.modules.upsampling.Upsample         [None, 2, 'nearest']          \n",
            " 11             [-1, 6]  1         0  ultralytics.nn.modules.conv.Concat           [1]                           \n",
            " 12                  -1  1    148224  ultralytics.nn.modules.block.C2f             [384, 128, 1]                 \n",
            " 13                  -1  1         0  torch.nn.modules.upsampling.Upsample         [None, 2, 'nearest']          \n",
            " 14             [-1, 4]  1         0  ultralytics.nn.modules.conv.Concat           [1]                           \n",
            " 15                  -1  1     37248  ultralytics.nn.modules.block.C2f             [192, 64, 1]                  \n",
            " 16                  -1  1     36992  ultralytics.nn.modules.conv.Conv             [64, 64, 3, 2]                \n",
            " 17            [-1, 12]  1         0  ultralytics.nn.modules.conv.Concat           [1]                           \n",
            " 18                  -1  1    123648  ultralytics.nn.modules.block.C2f             [192, 128, 1]                 \n",
            " 19                  -1  1    147712  ultralytics.nn.modules.conv.Conv             [128, 128, 3, 2]              \n",
            " 20             [-1, 9]  1         0  ultralytics.nn.modules.conv.Concat           [1]                           \n",
            " 21                  -1  1    493056  ultralytics.nn.modules.block.C2f             [384, 256, 1]                 \n",
            " 22        [15, 18, 21]  1    897664  ultralytics.nn.modules.head.Detect           [80, [64, 128, 256]]          \n",
            "Model summary: 129 layers, 3,157,200 parameters, 3,157,184 gradients, 8.9 GFLOPs\n",
            "\n",
            "Transferred 355/355 items from pretrained weights\n",
            "Freezing layer 'model.22.dfl.conv.weight'\n",
            "\u001b[34m\u001b[1mtrain: \u001b[0mFast image access ✅ (ping: 0.0±0.0 ms, read: 8.8±2.4 MB/s, size: 87.0 KB)\n"
          ]
        },
        {
          "name": "stderr",
          "output_type": "stream",
          "text": [
            "\u001b[34m\u001b[1mtrain: \u001b[0mScanning /Users/valeriecowan/Desktop/Mathieu/Dataset_1-9/train/labels... 5409 images, 5409 backgrounds, 0 corrupt: 100%|██████████| 5409/5409 [00:06<00:00, 878.23it/s] "
          ]
        },
        {
          "name": "stdout",
          "output_type": "stream",
          "text": [
            "\u001b[34m\u001b[1mtrain: \u001b[0mNew cache created: /Users/valeriecowan/Desktop/Mathieu/Dataset_1-9/train/labels.cache\n",
            "WARNING ⚠️ Labels are missing or empty in /Users/valeriecowan/Desktop/Mathieu/Dataset_1-9/train/labels.cache, training may not work correctly. See https://docs.ultralytics.com/datasets for dataset formatting guidance.\n"
          ]
        },
        {
          "name": "stderr",
          "output_type": "stream",
          "text": [
            "\n"
          ]
        },
        {
          "name": "stdout",
          "output_type": "stream",
          "text": [
            "\u001b[34m\u001b[1mval: \u001b[0mFast image access ✅ (ping: 0.1±0.3 ms, read: 9.9±6.9 MB/s, size: 71.0 KB)\n"
          ]
        },
        {
          "name": "stderr",
          "output_type": "stream",
          "text": [
            "\u001b[34m\u001b[1mval: \u001b[0mScanning /Users/valeriecowan/Desktop/Mathieu/Dataset_1-9/valid/labels... 226 images, 226 backgrounds, 0 corrupt: 100%|██████████| 226/226 [00:00<00:00, 903.36it/s] "
          ]
        },
        {
          "name": "stdout",
          "output_type": "stream",
          "text": [
            "\u001b[34m\u001b[1mval: \u001b[0mNew cache created: /Users/valeriecowan/Desktop/Mathieu/Dataset_1-9/valid/labels.cache\n",
            "WARNING ⚠️ Labels are missing or empty in /Users/valeriecowan/Desktop/Mathieu/Dataset_1-9/valid/labels.cache, training may not work correctly. See https://docs.ultralytics.com/datasets for dataset formatting guidance.\n"
          ]
        },
        {
          "name": "stderr",
          "output_type": "stream",
          "text": [
            "\n"
          ]
        },
        {
          "name": "stdout",
          "output_type": "stream",
          "text": [
            "Plotting labels to runs/detect/train12/labels.jpg... \n",
            "WARNING ⚠️ zero-size array to reduction operation maximum which has no identity\n",
            "\u001b[34m\u001b[1moptimizer:\u001b[0m 'optimizer=auto' found, ignoring 'lr0=0.01' and 'momentum=0.937' and determining best 'optimizer', 'lr0' and 'momentum' automatically... \n",
            "\u001b[34m\u001b[1moptimizer:\u001b[0m AdamW(lr=0.000119, momentum=0.9) with parameter groups 57 weight(decay=0.0), 64 weight(decay=0.0005), 63 bias(decay=0.0)\n",
            "Image sizes 640 train, 640 val\n",
            "Using 0 dataloader workers\n",
            "Logging results to \u001b[1mruns/detect/train12\u001b[0m\n",
            "Starting training for 50 epochs...\n",
            "\n",
            "      Epoch    GPU_mem   box_loss   cls_loss   dfl_loss  Instances       Size\n"
          ]
        },
        {
          "name": "stderr",
          "output_type": "stream",
          "text": [
            "  0%|          | 0/339 [00:00<?, ?it/s]\n"
          ]
        },
        {
          "ename": "RuntimeError",
          "evalue": "Numpy is not available",
          "output_type": "error",
          "traceback": [
            "\u001b[0;31m---------------------------------------------------------------------------\u001b[0m",
            "\u001b[0;31mRuntimeError\u001b[0m                              Traceback (most recent call last)",
            "Cell \u001b[0;32mIn[29], line 7\u001b[0m\n\u001b[1;32m      4\u001b[0m model \u001b[38;5;241m=\u001b[39m YOLO(\u001b[38;5;124m\"\u001b[39m\u001b[38;5;124myolov8n.pt\u001b[39m\u001b[38;5;124m\"\u001b[39m)  \u001b[38;5;66;03m# Le modèle est ici dans src/\u001b[39;00m\n\u001b[1;32m      6\u001b[0m \u001b[38;5;66;03m# Lancer l'entraînement en pointant vers le data.yaml dans dataset/second_dataset_od-8\u001b[39;00m\n\u001b[0;32m----> 7\u001b[0m \u001b[43mmodel\u001b[49m\u001b[38;5;241;43m.\u001b[39;49m\u001b[43mtrain\u001b[49m\u001b[43m(\u001b[49m\n\u001b[1;32m      8\u001b[0m \u001b[43m    \u001b[49m\u001b[43mdata\u001b[49m\u001b[38;5;241;43m=\u001b[39;49m\u001b[38;5;124;43m\"\u001b[39;49m\u001b[38;5;124;43mDataset_1-9/data.yaml\u001b[39;49m\u001b[38;5;124;43m\"\u001b[39;49m\u001b[43m,\u001b[49m\u001b[43m  \u001b[49m\u001b[38;5;66;43;03m# chemin relatif depuis src/\u001b[39;49;00m\n\u001b[1;32m      9\u001b[0m \u001b[43m    \u001b[49m\u001b[43mepochs\u001b[49m\u001b[38;5;241;43m=\u001b[39;49m\u001b[38;5;241;43m50\u001b[39;49m\u001b[43m,\u001b[49m\n\u001b[1;32m     10\u001b[0m \u001b[43m    \u001b[49m\u001b[43mimgsz\u001b[49m\u001b[38;5;241;43m=\u001b[39;49m\u001b[38;5;241;43m640\u001b[39;49m\u001b[43m,\u001b[49m\n\u001b[1;32m     11\u001b[0m \u001b[43m    \u001b[49m\u001b[43mbatch\u001b[49m\u001b[38;5;241;43m=\u001b[39;49m\u001b[38;5;241;43m16\u001b[39;49m\n\u001b[1;32m     12\u001b[0m \u001b[43m)\u001b[49m\n",
            "File \u001b[0;32m~/Library/Python/3.9/lib/python/site-packages/ultralytics/engine/model.py:793\u001b[0m, in \u001b[0;36mModel.train\u001b[0;34m(self, trainer, **kwargs)\u001b[0m\n\u001b[1;32m    790\u001b[0m     \u001b[38;5;28mself\u001b[39m\u001b[38;5;241m.\u001b[39mmodel \u001b[38;5;241m=\u001b[39m \u001b[38;5;28mself\u001b[39m\u001b[38;5;241m.\u001b[39mtrainer\u001b[38;5;241m.\u001b[39mmodel\n\u001b[1;32m    792\u001b[0m \u001b[38;5;28mself\u001b[39m\u001b[38;5;241m.\u001b[39mtrainer\u001b[38;5;241m.\u001b[39mhub_session \u001b[38;5;241m=\u001b[39m \u001b[38;5;28mself\u001b[39m\u001b[38;5;241m.\u001b[39msession  \u001b[38;5;66;03m# attach optional HUB session\u001b[39;00m\n\u001b[0;32m--> 793\u001b[0m \u001b[38;5;28;43mself\u001b[39;49m\u001b[38;5;241;43m.\u001b[39;49m\u001b[43mtrainer\u001b[49m\u001b[38;5;241;43m.\u001b[39;49m\u001b[43mtrain\u001b[49m\u001b[43m(\u001b[49m\u001b[43m)\u001b[49m\n\u001b[1;32m    794\u001b[0m \u001b[38;5;66;03m# Update model and cfg after training\u001b[39;00m\n\u001b[1;32m    795\u001b[0m \u001b[38;5;28;01mif\u001b[39;00m RANK \u001b[38;5;129;01min\u001b[39;00m {\u001b[38;5;241m-\u001b[39m\u001b[38;5;241m1\u001b[39m, \u001b[38;5;241m0\u001b[39m}:\n",
            "File \u001b[0;32m~/Library/Python/3.9/lib/python/site-packages/ultralytics/engine/trainer.py:211\u001b[0m, in \u001b[0;36mBaseTrainer.train\u001b[0;34m(self)\u001b[0m\n\u001b[1;32m    208\u001b[0m         ddp_cleanup(\u001b[38;5;28mself\u001b[39m, \u001b[38;5;28mstr\u001b[39m(file))\n\u001b[1;32m    210\u001b[0m \u001b[38;5;28;01melse\u001b[39;00m:\n\u001b[0;32m--> 211\u001b[0m     \u001b[38;5;28;43mself\u001b[39;49m\u001b[38;5;241;43m.\u001b[39;49m\u001b[43m_do_train\u001b[49m\u001b[43m(\u001b[49m\u001b[43mworld_size\u001b[49m\u001b[43m)\u001b[49m\n",
            "File \u001b[0;32m~/Library/Python/3.9/lib/python/site-packages/ultralytics/engine/trainer.py:372\u001b[0m, in \u001b[0;36mBaseTrainer._do_train\u001b[0;34m(self, world_size)\u001b[0m\n\u001b[1;32m    370\u001b[0m     pbar \u001b[38;5;241m=\u001b[39m TQDM(\u001b[38;5;28menumerate\u001b[39m(\u001b[38;5;28mself\u001b[39m\u001b[38;5;241m.\u001b[39mtrain_loader), total\u001b[38;5;241m=\u001b[39mnb)\n\u001b[1;32m    371\u001b[0m \u001b[38;5;28mself\u001b[39m\u001b[38;5;241m.\u001b[39mtloss \u001b[38;5;241m=\u001b[39m \u001b[38;5;28;01mNone\u001b[39;00m\n\u001b[0;32m--> 372\u001b[0m \u001b[38;5;28;01mfor\u001b[39;00m i, batch \u001b[38;5;129;01min\u001b[39;00m pbar:\n\u001b[1;32m    373\u001b[0m     \u001b[38;5;28mself\u001b[39m\u001b[38;5;241m.\u001b[39mrun_callbacks(\u001b[38;5;124m\"\u001b[39m\u001b[38;5;124mon_train_batch_start\u001b[39m\u001b[38;5;124m\"\u001b[39m)\n\u001b[1;32m    374\u001b[0m     \u001b[38;5;66;03m# Warmup\u001b[39;00m\n",
            "File \u001b[0;32m~/Library/Python/3.9/lib/python/site-packages/tqdm/std.py:1181\u001b[0m, in \u001b[0;36mtqdm.__iter__\u001b[0;34m(self)\u001b[0m\n\u001b[1;32m   1178\u001b[0m time \u001b[38;5;241m=\u001b[39m \u001b[38;5;28mself\u001b[39m\u001b[38;5;241m.\u001b[39m_time\n\u001b[1;32m   1180\u001b[0m \u001b[38;5;28;01mtry\u001b[39;00m:\n\u001b[0;32m-> 1181\u001b[0m     \u001b[38;5;28;01mfor\u001b[39;00m obj \u001b[38;5;129;01min\u001b[39;00m iterable:\n\u001b[1;32m   1182\u001b[0m         \u001b[38;5;28;01myield\u001b[39;00m obj\n\u001b[1;32m   1183\u001b[0m         \u001b[38;5;66;03m# Update and possibly print the progressbar.\u001b[39;00m\n\u001b[1;32m   1184\u001b[0m         \u001b[38;5;66;03m# Note: does not call self.update(1) for speed optimisation.\u001b[39;00m\n",
            "File \u001b[0;32m~/Library/Python/3.9/lib/python/site-packages/ultralytics/data/build.py:59\u001b[0m, in \u001b[0;36mInfiniteDataLoader.__iter__\u001b[0;34m(self)\u001b[0m\n\u001b[1;32m     57\u001b[0m \u001b[38;5;250m\u001b[39m\u001b[38;5;124;03m\"\"\"Create an iterator that yields indefinitely from the underlying iterator.\"\"\"\u001b[39;00m\n\u001b[1;32m     58\u001b[0m \u001b[38;5;28;01mfor\u001b[39;00m _ \u001b[38;5;129;01min\u001b[39;00m \u001b[38;5;28mrange\u001b[39m(\u001b[38;5;28mlen\u001b[39m(\u001b[38;5;28mself\u001b[39m)):\n\u001b[0;32m---> 59\u001b[0m     \u001b[38;5;28;01myield\u001b[39;00m \u001b[38;5;28;43mnext\u001b[39;49m\u001b[43m(\u001b[49m\u001b[38;5;28;43mself\u001b[39;49m\u001b[38;5;241;43m.\u001b[39;49m\u001b[43miterator\u001b[49m\u001b[43m)\u001b[49m\n",
            "File \u001b[0;32m~/Library/Python/3.9/lib/python/site-packages/torch/utils/data/dataloader.py:631\u001b[0m, in \u001b[0;36m_BaseDataLoaderIter.__next__\u001b[0;34m(self)\u001b[0m\n\u001b[1;32m    628\u001b[0m \u001b[38;5;28;01mif\u001b[39;00m \u001b[38;5;28mself\u001b[39m\u001b[38;5;241m.\u001b[39m_sampler_iter \u001b[38;5;129;01mis\u001b[39;00m \u001b[38;5;28;01mNone\u001b[39;00m:\n\u001b[1;32m    629\u001b[0m     \u001b[38;5;66;03m# TODO(https://github.com/pytorch/pytorch/issues/76750)\u001b[39;00m\n\u001b[1;32m    630\u001b[0m     \u001b[38;5;28mself\u001b[39m\u001b[38;5;241m.\u001b[39m_reset()  \u001b[38;5;66;03m# type: ignore[call-arg]\u001b[39;00m\n\u001b[0;32m--> 631\u001b[0m data \u001b[38;5;241m=\u001b[39m \u001b[38;5;28;43mself\u001b[39;49m\u001b[38;5;241;43m.\u001b[39;49m\u001b[43m_next_data\u001b[49m\u001b[43m(\u001b[49m\u001b[43m)\u001b[49m\n\u001b[1;32m    632\u001b[0m \u001b[38;5;28mself\u001b[39m\u001b[38;5;241m.\u001b[39m_num_yielded \u001b[38;5;241m+\u001b[39m\u001b[38;5;241m=\u001b[39m \u001b[38;5;241m1\u001b[39m\n\u001b[1;32m    633\u001b[0m \u001b[38;5;28;01mif\u001b[39;00m \u001b[38;5;28mself\u001b[39m\u001b[38;5;241m.\u001b[39m_dataset_kind \u001b[38;5;241m==\u001b[39m _DatasetKind\u001b[38;5;241m.\u001b[39mIterable \u001b[38;5;129;01mand\u001b[39;00m \\\n\u001b[1;32m    634\u001b[0m         \u001b[38;5;28mself\u001b[39m\u001b[38;5;241m.\u001b[39m_IterableDataset_len_called \u001b[38;5;129;01mis\u001b[39;00m \u001b[38;5;129;01mnot\u001b[39;00m \u001b[38;5;28;01mNone\u001b[39;00m \u001b[38;5;129;01mand\u001b[39;00m \\\n\u001b[1;32m    635\u001b[0m         \u001b[38;5;28mself\u001b[39m\u001b[38;5;241m.\u001b[39m_num_yielded \u001b[38;5;241m>\u001b[39m \u001b[38;5;28mself\u001b[39m\u001b[38;5;241m.\u001b[39m_IterableDataset_len_called:\n",
            "File \u001b[0;32m~/Library/Python/3.9/lib/python/site-packages/torch/utils/data/dataloader.py:675\u001b[0m, in \u001b[0;36m_SingleProcessDataLoaderIter._next_data\u001b[0;34m(self)\u001b[0m\n\u001b[1;32m    673\u001b[0m \u001b[38;5;28;01mdef\u001b[39;00m\u001b[38;5;250m \u001b[39m\u001b[38;5;21m_next_data\u001b[39m(\u001b[38;5;28mself\u001b[39m):\n\u001b[1;32m    674\u001b[0m     index \u001b[38;5;241m=\u001b[39m \u001b[38;5;28mself\u001b[39m\u001b[38;5;241m.\u001b[39m_next_index()  \u001b[38;5;66;03m# may raise StopIteration\u001b[39;00m\n\u001b[0;32m--> 675\u001b[0m     data \u001b[38;5;241m=\u001b[39m \u001b[38;5;28;43mself\u001b[39;49m\u001b[38;5;241;43m.\u001b[39;49m\u001b[43m_dataset_fetcher\u001b[49m\u001b[38;5;241;43m.\u001b[39;49m\u001b[43mfetch\u001b[49m\u001b[43m(\u001b[49m\u001b[43mindex\u001b[49m\u001b[43m)\u001b[49m  \u001b[38;5;66;03m# may raise StopIteration\u001b[39;00m\n\u001b[1;32m    676\u001b[0m     \u001b[38;5;28;01mif\u001b[39;00m \u001b[38;5;28mself\u001b[39m\u001b[38;5;241m.\u001b[39m_pin_memory:\n\u001b[1;32m    677\u001b[0m         data \u001b[38;5;241m=\u001b[39m _utils\u001b[38;5;241m.\u001b[39mpin_memory\u001b[38;5;241m.\u001b[39mpin_memory(data, \u001b[38;5;28mself\u001b[39m\u001b[38;5;241m.\u001b[39m_pin_memory_device)\n",
            "File \u001b[0;32m~/Library/Python/3.9/lib/python/site-packages/torch/utils/data/_utils/fetch.py:51\u001b[0m, in \u001b[0;36m_MapDatasetFetcher.fetch\u001b[0;34m(self, possibly_batched_index)\u001b[0m\n\u001b[1;32m     49\u001b[0m         data \u001b[38;5;241m=\u001b[39m \u001b[38;5;28mself\u001b[39m\u001b[38;5;241m.\u001b[39mdataset\u001b[38;5;241m.\u001b[39m__getitems__(possibly_batched_index)\n\u001b[1;32m     50\u001b[0m     \u001b[38;5;28;01melse\u001b[39;00m:\n\u001b[0;32m---> 51\u001b[0m         data \u001b[38;5;241m=\u001b[39m [\u001b[38;5;28mself\u001b[39m\u001b[38;5;241m.\u001b[39mdataset[idx] \u001b[38;5;28;01mfor\u001b[39;00m idx \u001b[38;5;129;01min\u001b[39;00m possibly_batched_index]\n\u001b[1;32m     52\u001b[0m \u001b[38;5;28;01melse\u001b[39;00m:\n\u001b[1;32m     53\u001b[0m     data \u001b[38;5;241m=\u001b[39m \u001b[38;5;28mself\u001b[39m\u001b[38;5;241m.\u001b[39mdataset[possibly_batched_index]\n",
            "File \u001b[0;32m~/Library/Python/3.9/lib/python/site-packages/torch/utils/data/_utils/fetch.py:51\u001b[0m, in \u001b[0;36m<listcomp>\u001b[0;34m(.0)\u001b[0m\n\u001b[1;32m     49\u001b[0m         data \u001b[38;5;241m=\u001b[39m \u001b[38;5;28mself\u001b[39m\u001b[38;5;241m.\u001b[39mdataset\u001b[38;5;241m.\u001b[39m__getitems__(possibly_batched_index)\n\u001b[1;32m     50\u001b[0m     \u001b[38;5;28;01melse\u001b[39;00m:\n\u001b[0;32m---> 51\u001b[0m         data \u001b[38;5;241m=\u001b[39m [\u001b[38;5;28;43mself\u001b[39;49m\u001b[38;5;241;43m.\u001b[39;49m\u001b[43mdataset\u001b[49m\u001b[43m[\u001b[49m\u001b[43midx\u001b[49m\u001b[43m]\u001b[49m \u001b[38;5;28;01mfor\u001b[39;00m idx \u001b[38;5;129;01min\u001b[39;00m possibly_batched_index]\n\u001b[1;32m     52\u001b[0m \u001b[38;5;28;01melse\u001b[39;00m:\n\u001b[1;32m     53\u001b[0m     data \u001b[38;5;241m=\u001b[39m \u001b[38;5;28mself\u001b[39m\u001b[38;5;241m.\u001b[39mdataset[possibly_batched_index]\n",
            "File \u001b[0;32m~/Library/Python/3.9/lib/python/site-packages/ultralytics/data/base.py:376\u001b[0m, in \u001b[0;36mBaseDataset.__getitem__\u001b[0;34m(self, index)\u001b[0m\n\u001b[1;32m    374\u001b[0m \u001b[38;5;28;01mdef\u001b[39;00m\u001b[38;5;250m \u001b[39m\u001b[38;5;21m__getitem__\u001b[39m(\u001b[38;5;28mself\u001b[39m, index):\n\u001b[1;32m    375\u001b[0m \u001b[38;5;250m    \u001b[39m\u001b[38;5;124;03m\"\"\"Return transformed label information for given index.\"\"\"\u001b[39;00m\n\u001b[0;32m--> 376\u001b[0m     \u001b[38;5;28;01mreturn\u001b[39;00m \u001b[38;5;28;43mself\u001b[39;49m\u001b[38;5;241;43m.\u001b[39;49m\u001b[43mtransforms\u001b[49m\u001b[43m(\u001b[49m\u001b[38;5;28;43mself\u001b[39;49m\u001b[38;5;241;43m.\u001b[39;49m\u001b[43mget_image_and_label\u001b[49m\u001b[43m(\u001b[49m\u001b[43mindex\u001b[49m\u001b[43m)\u001b[49m\u001b[43m)\u001b[49m\n",
            "File \u001b[0;32m~/Library/Python/3.9/lib/python/site-packages/ultralytics/data/augment.py:201\u001b[0m, in \u001b[0;36mCompose.__call__\u001b[0;34m(self, data)\u001b[0m\n\u001b[1;32m    184\u001b[0m \u001b[38;5;250m\u001b[39m\u001b[38;5;124;03m\"\"\"\u001b[39;00m\n\u001b[1;32m    185\u001b[0m \u001b[38;5;124;03mApplies a series of transformations to input data. This method sequentially applies each transformation in the\u001b[39;00m\n\u001b[1;32m    186\u001b[0m \u001b[38;5;124;03mCompose object's list of transforms to the input data.\u001b[39;00m\n\u001b[0;32m   (...)\u001b[0m\n\u001b[1;32m    198\u001b[0m \u001b[38;5;124;03m    >>> transformed_data = compose(input_data)\u001b[39;00m\n\u001b[1;32m    199\u001b[0m \u001b[38;5;124;03m\"\"\"\u001b[39;00m\n\u001b[1;32m    200\u001b[0m \u001b[38;5;28;01mfor\u001b[39;00m t \u001b[38;5;129;01min\u001b[39;00m \u001b[38;5;28mself\u001b[39m\u001b[38;5;241m.\u001b[39mtransforms:\n\u001b[0;32m--> 201\u001b[0m     data \u001b[38;5;241m=\u001b[39m \u001b[43mt\u001b[49m\u001b[43m(\u001b[49m\u001b[43mdata\u001b[49m\u001b[43m)\u001b[49m\n\u001b[1;32m    202\u001b[0m \u001b[38;5;28;01mreturn\u001b[39;00m data\n",
            "File \u001b[0;32m~/Library/Python/3.9/lib/python/site-packages/ultralytics/data/augment.py:2168\u001b[0m, in \u001b[0;36mFormat.__call__\u001b[0;34m(self, labels)\u001b[0m\n\u001b[1;32m   2164\u001b[0m         masks \u001b[38;5;241m=\u001b[39m torch\u001b[38;5;241m.\u001b[39mzeros(\n\u001b[1;32m   2165\u001b[0m             \u001b[38;5;241m1\u001b[39m \u001b[38;5;28;01mif\u001b[39;00m \u001b[38;5;28mself\u001b[39m\u001b[38;5;241m.\u001b[39mmask_overlap \u001b[38;5;28;01melse\u001b[39;00m nl, img\u001b[38;5;241m.\u001b[39mshape[\u001b[38;5;241m0\u001b[39m] \u001b[38;5;241m/\u001b[39m\u001b[38;5;241m/\u001b[39m \u001b[38;5;28mself\u001b[39m\u001b[38;5;241m.\u001b[39mmask_ratio, img\u001b[38;5;241m.\u001b[39mshape[\u001b[38;5;241m1\u001b[39m] \u001b[38;5;241m/\u001b[39m\u001b[38;5;241m/\u001b[39m \u001b[38;5;28mself\u001b[39m\u001b[38;5;241m.\u001b[39mmask_ratio\n\u001b[1;32m   2166\u001b[0m         )\n\u001b[1;32m   2167\u001b[0m     labels[\u001b[38;5;124m\"\u001b[39m\u001b[38;5;124mmasks\u001b[39m\u001b[38;5;124m\"\u001b[39m] \u001b[38;5;241m=\u001b[39m masks\n\u001b[0;32m-> 2168\u001b[0m labels[\u001b[38;5;124m\"\u001b[39m\u001b[38;5;124mimg\u001b[39m\u001b[38;5;124m\"\u001b[39m] \u001b[38;5;241m=\u001b[39m \u001b[38;5;28;43mself\u001b[39;49m\u001b[38;5;241;43m.\u001b[39;49m\u001b[43m_format_img\u001b[49m\u001b[43m(\u001b[49m\u001b[43mimg\u001b[49m\u001b[43m)\u001b[49m\n\u001b[1;32m   2169\u001b[0m labels[\u001b[38;5;124m\"\u001b[39m\u001b[38;5;124mcls\u001b[39m\u001b[38;5;124m\"\u001b[39m] \u001b[38;5;241m=\u001b[39m torch\u001b[38;5;241m.\u001b[39mfrom_numpy(\u001b[38;5;28mcls\u001b[39m) \u001b[38;5;28;01mif\u001b[39;00m nl \u001b[38;5;28;01melse\u001b[39;00m torch\u001b[38;5;241m.\u001b[39mzeros(nl)\n\u001b[1;32m   2170\u001b[0m labels[\u001b[38;5;124m\"\u001b[39m\u001b[38;5;124mbboxes\u001b[39m\u001b[38;5;124m\"\u001b[39m] \u001b[38;5;241m=\u001b[39m torch\u001b[38;5;241m.\u001b[39mfrom_numpy(instances\u001b[38;5;241m.\u001b[39mbboxes) \u001b[38;5;28;01mif\u001b[39;00m nl \u001b[38;5;28;01melse\u001b[39;00m torch\u001b[38;5;241m.\u001b[39mzeros((nl, \u001b[38;5;241m4\u001b[39m))\n",
            "File \u001b[0;32m~/Library/Python/3.9/lib/python/site-packages/ultralytics/data/augment.py:2217\u001b[0m, in \u001b[0;36mFormat._format_img\u001b[0;34m(self, img)\u001b[0m\n\u001b[1;32m   2215\u001b[0m img \u001b[38;5;241m=\u001b[39m img\u001b[38;5;241m.\u001b[39mtranspose(\u001b[38;5;241m2\u001b[39m, \u001b[38;5;241m0\u001b[39m, \u001b[38;5;241m1\u001b[39m)\n\u001b[1;32m   2216\u001b[0m img \u001b[38;5;241m=\u001b[39m np\u001b[38;5;241m.\u001b[39mascontiguousarray(img[::\u001b[38;5;241m-\u001b[39m\u001b[38;5;241m1\u001b[39m] \u001b[38;5;28;01mif\u001b[39;00m random\u001b[38;5;241m.\u001b[39muniform(\u001b[38;5;241m0\u001b[39m, \u001b[38;5;241m1\u001b[39m) \u001b[38;5;241m>\u001b[39m \u001b[38;5;28mself\u001b[39m\u001b[38;5;241m.\u001b[39mbgr \u001b[38;5;129;01mand\u001b[39;00m img\u001b[38;5;241m.\u001b[39mshape[\u001b[38;5;241m0\u001b[39m] \u001b[38;5;241m==\u001b[39m \u001b[38;5;241m3\u001b[39m \u001b[38;5;28;01melse\u001b[39;00m img)\n\u001b[0;32m-> 2217\u001b[0m img \u001b[38;5;241m=\u001b[39m \u001b[43mtorch\u001b[49m\u001b[38;5;241;43m.\u001b[39;49m\u001b[43mfrom_numpy\u001b[49m\u001b[43m(\u001b[49m\u001b[43mimg\u001b[49m\u001b[43m)\u001b[49m\n\u001b[1;32m   2218\u001b[0m \u001b[38;5;28;01mreturn\u001b[39;00m img\n",
            "\u001b[0;31mRuntimeError\u001b[0m: Numpy is not available"
          ]
        }
      ],
      "source": [
        "#train\n",
        "from ultralytics import YOLO\n",
        "\n",
        "model = YOLO(\"yolov8n.pt\")  # Le modèle est ici dans src/\n",
        "\n",
        "# Lancer l'entraînement en pointant vers le data.yaml dans dataset/second_dataset_od-8\n",
        "model.train(\n",
        "    data=\"Dataset_1-9/data.yaml\",  # chemin relatif depuis src/\n",
        "    epochs=50,\n",
        "    imgsz=640,\n",
        "    batch=16\n",
        ")\n"
      ]
    },
    {
      "cell_type": "code",
      "execution_count": null,
      "metadata": {
        "id": "WUz_ZiQq0q9x"
      },
      "outputs": [],
      "source": [
        "# Charger ton modèle fine-tuné (best.pt)\n",
        "model = YOLO(\"runs/detect/train/weights/best.pt\")\n",
        "\n",
        "# Exporter en NCNN avec imgsz=320 pour Raspberry Pi\n",
        "#model.export(format=\"ncnn\", imgsz=320)\n"
      ]
    }
  ],
  "metadata": {
    "accelerator": "GPU",
    "colab": {
      "gpuType": "T4",
      "provenance": []
    },
    "kernelspec": {
      "display_name": "Python 3",
      "name": "python3"
    },
    "language_info": {
      "codemirror_mode": {
        "name": "ipython",
        "version": 3
      },
      "file_extension": ".py",
      "mimetype": "text/x-python",
      "name": "python",
      "nbconvert_exporter": "python",
      "pygments_lexer": "ipython3",
      "version": "3.9.6"
    }
  },
  "nbformat": 4,
  "nbformat_minor": 0
}
